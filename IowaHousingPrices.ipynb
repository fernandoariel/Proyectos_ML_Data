{
  "nbformat": 4,
  "nbformat_minor": 0,
  "metadata": {
    "colab": {
      "name": "IowaHousingPrices.ipynb",
      "provenance": [],
      "collapsed_sections": [],
      "toc_visible": true,
      "authorship_tag": "ABX9TyOSLE3wYtq0ozugvjqoSFCa",
      "include_colab_link": true
    },
    "kernelspec": {
      "name": "python3",
      "display_name": "Python 3"
    }
  },
  "cells": [
    {
      "cell_type": "markdown",
      "metadata": {
        "id": "view-in-github",
        "colab_type": "text"
      },
      "source": [
        "<a href=\"https://colab.research.google.com/github/fernandoariel/Proyectos_ML_Data/blob/master/IowaHousingPrices.ipynb\" target=\"_parent\"><img src=\"https://colab.research.google.com/assets/colab-badge.svg\" alt=\"Open In Colab\"/></a>"
      ]
    },
    {
      "cell_type": "code",
      "metadata": {
        "id": "2zFQ9GJ4J9C1",
        "colab_type": "code",
        "colab": {}
      },
      "source": [
        "import keras\n",
        "import numpy as np\n",
        "import pandas as pd\n",
        "import matplotlib.pyplot as plt"
      ],
      "execution_count": 2,
      "outputs": []
    },
    {
      "cell_type": "code",
      "metadata": {
        "id": "4vsPcqQGL0dB",
        "colab_type": "code",
        "colab": {
          "base_uri": "https://localhost:8080/",
          "height": 125
        },
        "outputId": "45127343-a0bc-4c86-9715-a16f5bed16d5"
      },
      "source": [
        "from google.colab import drive\n",
        "drive.mount('/content/gdrive')"
      ],
      "execution_count": 1,
      "outputs": [
        {
          "output_type": "stream",
          "text": [
            "Go to this URL in a browser: https://accounts.google.com/o/oauth2/auth?client_id=947318989803-6bn6qk8qdgf4n4g3pfee6491hc0brc4i.apps.googleusercontent.com&redirect_uri=urn%3aietf%3awg%3aoauth%3a2.0%3aoob&scope=email%20https%3a%2f%2fwww.googleapis.com%2fauth%2fdocs.test%20https%3a%2f%2fwww.googleapis.com%2fauth%2fdrive%20https%3a%2f%2fwww.googleapis.com%2fauth%2fdrive.photos.readonly%20https%3a%2f%2fwww.googleapis.com%2fauth%2fpeopleapi.readonly&response_type=code\n",
            "\n",
            "Enter your authorization code:\n",
            "4/3wFo_AO46Bd7dAeMaMcYjIVbjcbOqeQx4xR_A8EKTXQZUt0u-1znQPM\n",
            "Mounted at /content/gdrive\n"
          ],
          "name": "stdout"
        }
      ]
    },
    {
      "cell_type": "code",
      "metadata": {
        "id": "iZfGnlHWMRlW",
        "colab_type": "code",
        "colab": {}
      },
      "source": [
        "df=pd.read_csv('/content/gdrive/My Drive/Colab Notebooks/Proyectos/IowaHousingPrices.csv')"
      ],
      "execution_count": 3,
      "outputs": []
    },
    {
      "cell_type": "code",
      "metadata": {
        "id": "udIyCsSYMgNR",
        "colab_type": "code",
        "colab": {
          "base_uri": "https://localhost:8080/",
          "height": 197
        },
        "outputId": "27fa379f-75c1-4dfe-a0a9-854b4afbba0e"
      },
      "source": [
        "df.head()"
      ],
      "execution_count": 4,
      "outputs": [
        {
          "output_type": "execute_result",
          "data": {
            "text/html": [
              "<div>\n",
              "<style scoped>\n",
              "    .dataframe tbody tr th:only-of-type {\n",
              "        vertical-align: middle;\n",
              "    }\n",
              "\n",
              "    .dataframe tbody tr th {\n",
              "        vertical-align: top;\n",
              "    }\n",
              "\n",
              "    .dataframe thead th {\n",
              "        text-align: right;\n",
              "    }\n",
              "</style>\n",
              "<table border=\"1\" class=\"dataframe\">\n",
              "  <thead>\n",
              "    <tr style=\"text-align: right;\">\n",
              "      <th></th>\n",
              "      <th>SquareFeet</th>\n",
              "      <th>SalePrice</th>\n",
              "    </tr>\n",
              "  </thead>\n",
              "  <tbody>\n",
              "    <tr>\n",
              "      <th>0</th>\n",
              "      <td>1710</td>\n",
              "      <td>208500</td>\n",
              "    </tr>\n",
              "    <tr>\n",
              "      <th>1</th>\n",
              "      <td>1262</td>\n",
              "      <td>181500</td>\n",
              "    </tr>\n",
              "    <tr>\n",
              "      <th>2</th>\n",
              "      <td>1786</td>\n",
              "      <td>223500</td>\n",
              "    </tr>\n",
              "    <tr>\n",
              "      <th>3</th>\n",
              "      <td>1717</td>\n",
              "      <td>140000</td>\n",
              "    </tr>\n",
              "    <tr>\n",
              "      <th>4</th>\n",
              "      <td>2198</td>\n",
              "      <td>250000</td>\n",
              "    </tr>\n",
              "  </tbody>\n",
              "</table>\n",
              "</div>"
            ],
            "text/plain": [
              "   SquareFeet  SalePrice\n",
              "0        1710     208500\n",
              "1        1262     181500\n",
              "2        1786     223500\n",
              "3        1717     140000\n",
              "4        2198     250000"
            ]
          },
          "metadata": {
            "tags": []
          },
          "execution_count": 4
        }
      ]
    },
    {
      "cell_type": "code",
      "metadata": {
        "id": "fiewbhJQMoWy",
        "colab_type": "code",
        "colab": {}
      },
      "source": [
        "squareFeet=df[['SquareFeet']].values  #X\n",
        "salePrice=df[['SalePrice']].values   #Y"
      ],
      "execution_count": 6,
      "outputs": []
    },
    {
      "cell_type": "code",
      "metadata": {
        "id": "hLn6BfnlM4PG",
        "colab_type": "code",
        "colab": {
          "base_uri": "https://localhost:8080/",
          "height": 1000
        },
        "outputId": "3eedfce3-594d-407b-e04e-5437d07fb6c3"
      },
      "source": [
        "model=keras.Sequential()\n",
        "model.add(keras.layers.Dense(1, input_shape=(1,)))\n",
        "model.compile(keras.optimizers.Adam(lr=1), 'mean_squared_error')  #Adam, RMSProp, SGDNesterov, Adadelta, AdaGrad\n",
        "\n",
        "model.fit(squareFeet, salePrice, epochs=30, batch_size=10)"
      ],
      "execution_count": 7,
      "outputs": [
        {
          "output_type": "stream",
          "text": [
            "Epoch 1/30\n",
            "146/146 [==============================] - 0s 629us/step - loss: 14164033536.0000\n",
            "Epoch 2/30\n",
            "146/146 [==============================] - 0s 626us/step - loss: 3334096896.0000\n",
            "Epoch 3/30\n",
            "146/146 [==============================] - 0s 636us/step - loss: 3184791040.0000\n",
            "Epoch 4/30\n",
            "146/146 [==============================] - 0s 638us/step - loss: 3206553344.0000\n",
            "Epoch 5/30\n",
            "146/146 [==============================] - 0s 610us/step - loss: 3186731520.0000\n",
            "Epoch 6/30\n",
            "146/146 [==============================] - 0s 611us/step - loss: 3189700352.0000\n",
            "Epoch 7/30\n",
            "146/146 [==============================] - 0s 659us/step - loss: 3194244352.0000\n",
            "Epoch 8/30\n",
            "146/146 [==============================] - 0s 628us/step - loss: 3205678080.0000\n",
            "Epoch 9/30\n",
            "146/146 [==============================] - 0s 623us/step - loss: 3219650816.0000\n",
            "Epoch 10/30\n",
            "146/146 [==============================] - 0s 671us/step - loss: 3198553856.0000\n",
            "Epoch 11/30\n",
            "146/146 [==============================] - 0s 675us/step - loss: 3210531072.0000\n",
            "Epoch 12/30\n",
            "146/146 [==============================] - 0s 682us/step - loss: 3208097024.0000\n",
            "Epoch 13/30\n",
            "146/146 [==============================] - 0s 758us/step - loss: 3187288320.0000\n",
            "Epoch 14/30\n",
            "146/146 [==============================] - 0s 666us/step - loss: 3201707520.0000\n",
            "Epoch 15/30\n",
            "146/146 [==============================] - 0s 614us/step - loss: 3192788224.0000\n",
            "Epoch 16/30\n",
            "146/146 [==============================] - 0s 634us/step - loss: 3205979904.0000\n",
            "Epoch 17/30\n",
            "146/146 [==============================] - 0s 604us/step - loss: 3203526912.0000\n",
            "Epoch 18/30\n",
            "146/146 [==============================] - 0s 641us/step - loss: 3191884800.0000\n",
            "Epoch 19/30\n",
            "146/146 [==============================] - 0s 630us/step - loss: 3196894464.0000\n",
            "Epoch 20/30\n",
            "146/146 [==============================] - 0s 670us/step - loss: 3196327168.0000\n",
            "Epoch 21/30\n",
            "146/146 [==============================] - 0s 644us/step - loss: 3184503040.0000\n",
            "Epoch 22/30\n",
            "146/146 [==============================] - 0s 734us/step - loss: 3194826496.0000\n",
            "Epoch 23/30\n",
            "146/146 [==============================] - 0s 642us/step - loss: 3203184640.0000\n",
            "Epoch 24/30\n",
            "146/146 [==============================] - 0s 618us/step - loss: 3180009984.0000\n",
            "Epoch 25/30\n",
            "146/146 [==============================] - 0s 625us/step - loss: 3214759168.0000\n",
            "Epoch 26/30\n",
            "146/146 [==============================] - 0s 657us/step - loss: 3205347072.0000\n",
            "Epoch 27/30\n",
            "146/146 [==============================] - 0s 623us/step - loss: 3199888640.0000\n",
            "Epoch 28/30\n",
            "146/146 [==============================] - 0s 680us/step - loss: 3199663104.0000\n",
            "Epoch 29/30\n",
            "146/146 [==============================] - 0s 668us/step - loss: 3196738816.0000\n",
            "Epoch 30/30\n",
            "146/146 [==============================] - 0s 627us/step - loss: 3199550464.0000\n"
          ],
          "name": "stdout"
        },
        {
          "output_type": "execute_result",
          "data": {
            "text/plain": [
              "<tensorflow.python.keras.callbacks.History at 0x7f669045b710>"
            ]
          },
          "metadata": {
            "tags": []
          },
          "execution_count": 7
        }
      ]
    },
    {
      "cell_type": "code",
      "metadata": {
        "id": "6K2TvLEEOmXm",
        "colab_type": "code",
        "colab": {
          "base_uri": "https://localhost:8080/",
          "height": 312
        },
        "outputId": "396d6aad-d0ac-42b3-c6e4-7a20d31bac05"
      },
      "source": [
        "df.plot(kind='scatter', x='SquareFeet', y='SalePrice', title='Housing Prices and Square Footage of Iowa Homes')\n",
        "\n",
        "y_pred=model.predict(squareFeet)\n",
        "\n",
        "plt.plot(squareFeet, y_pred, color='red')"
      ],
      "execution_count": 8,
      "outputs": [
        {
          "output_type": "execute_result",
          "data": {
            "text/plain": [
              "[<matplotlib.lines.Line2D at 0x7f669045bf60>]"
            ]
          },
          "metadata": {
            "tags": []
          },
          "execution_count": 8
        },
        {
          "output_type": "display_data",
          "data": {
            "image/png": "[encoded data removed]",
            "text/plain": [
              "<Figure size 432x288 with 1 Axes>"
            ]
          },
          "metadata": {
            "tags": [],
            "needs_background": "light"
          }
        }
      ]
    },
    {
      "cell_type": "code",
      "metadata": {
        "id": "RWhafJHgPMDj",
        "colab_type": "code",
        "colab": {
          "base_uri": "https://localhost:8080/",
          "height": 34
        },
        "outputId": "6bdbafc8-8489-4b9d-95b8-2710e582d10d"
      },
      "source": [
        "NewSF= 2500\n",
        "print(model.predict([NewSF]))"
      ],
      "execution_count": 9,
      "outputs": [
        {
          "output_type": "stream",
          "text": [
            "[[292048.3]]\n"
          ],
          "name": "stdout"
        }
      ]
    }
  ]
}