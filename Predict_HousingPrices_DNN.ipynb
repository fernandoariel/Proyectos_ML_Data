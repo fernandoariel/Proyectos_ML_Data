{
  "nbformat": 4,
  "nbformat_minor": 0,
  "metadata": {
    "colab": {
      "name": "Predict_HousingPrices_DNN.ipynb",
      "provenance": [],
      "collapsed_sections": [],
      "mount_file_id": "1hxux_2S12g110l-PndQ98LmLYpfMcCrQ",
      "authorship_tag": "ABX9TyMAcxtgUk7LHQ0RmpDfEAB4",
      "include_colab_link": true
    },
    "kernelspec": {
      "name": "python3",
      "display_name": "Python 3"
    }
  },
  "cells": [
    {
      "cell_type": "markdown",
      "metadata": {
        "id": "view-in-github",
        "colab_type": "text"
      },
      "source": [
        "<a href=\"https://colab.research.google.com/github/fernandoariel/Proyectos_ML_Data/blob/master/Predict_HousingPrices_DNN.ipynb\" target=\"_parent\"><img src=\"https://colab.research.google.com/assets/colab-badge.svg\" alt=\"Open In Colab\"/></a>"
      ]
    },
    {
      "cell_type": "code",
      "metadata": {
        "id": "fkhk82d9Q-wD",
        "colab_type": "code",
        "colab": {}
      },
      "source": [
        "import keras\n",
        "import numpy as np\n",
        "import pandas as pd"
      ],
      "execution_count": 1,
      "outputs": []
    },
    {
      "cell_type": "code",
      "metadata": {
        "id": "N4dhCTQWRP5e",
        "colab_type": "code",
        "colab": {
          "base_uri": "https://localhost:8080/",
          "height": 197
        },
        "outputId": "853c3178-a302-490a-891a-e43278e791fb"
      },
      "source": [
        "df=pd.read_csv('/content/drive/My Drive/Colab Notebooks/Proyectos/HousingPrices.csv')\n",
        "df.head()"
      ],
      "execution_count": 3,
      "outputs": [
        {
          "output_type": "execute_result",
          "data": {
            "text/html": [
              "<div>\n",
              "<style scoped>\n",
              "    .dataframe tbody tr th:only-of-type {\n",
              "        vertical-align: middle;\n",
              "    }\n",
              "\n",
              "    .dataframe tbody tr th {\n",
              "        vertical-align: top;\n",
              "    }\n",
              "\n",
              "    .dataframe thead th {\n",
              "        text-align: right;\n",
              "    }\n",
              "</style>\n",
              "<table border=\"1\" class=\"dataframe\">\n",
              "  <thead>\n",
              "    <tr style=\"text-align: right;\">\n",
              "      <th></th>\n",
              "      <th>YearBuilt</th>\n",
              "      <th>2ndFlrSF</th>\n",
              "      <th>GrLivArea</th>\n",
              "      <th>FullBath</th>\n",
              "      <th>HalfBath</th>\n",
              "      <th>BedroomAbvGr</th>\n",
              "      <th>TotRmsAbvGrd</th>\n",
              "      <th>YrSold</th>\n",
              "      <th>SalePrice</th>\n",
              "    </tr>\n",
              "  </thead>\n",
              "  <tbody>\n",
              "    <tr>\n",
              "      <th>0</th>\n",
              "      <td>2003</td>\n",
              "      <td>854</td>\n",
              "      <td>1710</td>\n",
              "      <td>2</td>\n",
              "      <td>1</td>\n",
              "      <td>3</td>\n",
              "      <td>8</td>\n",
              "      <td>2008</td>\n",
              "      <td>208500</td>\n",
              "    </tr>\n",
              "    <tr>\n",
              "      <th>1</th>\n",
              "      <td>1976</td>\n",
              "      <td>0</td>\n",
              "      <td>1262</td>\n",
              "      <td>2</td>\n",
              "      <td>0</td>\n",
              "      <td>3</td>\n",
              "      <td>6</td>\n",
              "      <td>2007</td>\n",
              "      <td>181500</td>\n",
              "    </tr>\n",
              "    <tr>\n",
              "      <th>2</th>\n",
              "      <td>2001</td>\n",
              "      <td>866</td>\n",
              "      <td>1786</td>\n",
              "      <td>2</td>\n",
              "      <td>1</td>\n",
              "      <td>3</td>\n",
              "      <td>6</td>\n",
              "      <td>2008</td>\n",
              "      <td>223500</td>\n",
              "    </tr>\n",
              "    <tr>\n",
              "      <th>3</th>\n",
              "      <td>1915</td>\n",
              "      <td>756</td>\n",
              "      <td>1717</td>\n",
              "      <td>1</td>\n",
              "      <td>0</td>\n",
              "      <td>3</td>\n",
              "      <td>7</td>\n",
              "      <td>2006</td>\n",
              "      <td>140000</td>\n",
              "    </tr>\n",
              "    <tr>\n",
              "      <th>4</th>\n",
              "      <td>2000</td>\n",
              "      <td>1053</td>\n",
              "      <td>2198</td>\n",
              "      <td>2</td>\n",
              "      <td>1</td>\n",
              "      <td>4</td>\n",
              "      <td>9</td>\n",
              "      <td>2008</td>\n",
              "      <td>250000</td>\n",
              "    </tr>\n",
              "  </tbody>\n",
              "</table>\n",
              "</div>"
            ],
            "text/plain": [
              "   YearBuilt  2ndFlrSF  GrLivArea  ...  TotRmsAbvGrd  YrSold  SalePrice\n",
              "0       2003       854       1710  ...             8    2008     208500\n",
              "1       1976         0       1262  ...             6    2007     181500\n",
              "2       2001       866       1786  ...             6    2008     223500\n",
              "3       1915       756       1717  ...             7    2006     140000\n",
              "4       2000      1053       2198  ...             9    2008     250000\n",
              "\n",
              "[5 rows x 9 columns]"
            ]
          },
          "metadata": {
            "tags": []
          },
          "execution_count": 3
        }
      ]
    },
    {
      "cell_type": "code",
      "metadata": {
        "id": "WmGOGxtfSm6u",
        "colab_type": "code",
        "colab": {}
      },
      "source": [
        "X=df.drop(columns=['SalePrice'])\n",
        "Y=df[['SalePrice']]"
      ],
      "execution_count": 5,
      "outputs": []
    },
    {
      "cell_type": "code",
      "metadata": {
        "id": "OHb6dhzvSxC6",
        "colab_type": "code",
        "colab": {}
      },
      "source": [
        "model=keras.Sequential()\n",
        "model.add(keras.layers.Dense(8, activation='relu', input_shape=(8,)))\n",
        "model.add(keras.layers.Dense(8, activation='relu'))\n",
        "model.add(keras.layers.Dense(1))\n",
        "\n",
        "model.compile(optimizer='adam', loss='mean_squared_error')"
      ],
      "execution_count": 8,
      "outputs": []
    },
    {
      "cell_type": "code",
      "metadata": {
        "id": "0HeLMc_aT1a0",
        "colab_type": "code",
        "colab": {
          "base_uri": "https://localhost:8080/",
          "height": 1000
        },
        "outputId": "9dd764af-e1c3-4426-d82e-79607da155b2"
      },
      "source": [
        "model.fit(X,Y, epochs=30, callbacks=[keras.callbacks.EarlyStopping(patience=5)])"
      ],
      "execution_count": 9,
      "outputs": [
        {
          "output_type": "stream",
          "text": [
            "Epoch 1/30\n",
            " 1/46 [..............................] - ETA: 0s - loss: 41714425856.0000WARNING:tensorflow:Early stopping conditioned on metric `val_loss` which is not available. Available metrics are: loss\n",
            "46/46 [==============================] - 0s 948us/step - loss: 38718959616.0000\n",
            "Epoch 2/30\n",
            " 1/46 [..............................] - ETA: 0s - loss: 33644367872.0000WARNING:tensorflow:Early stopping conditioned on metric `val_loss` which is not available. Available metrics are: loss\n",
            "46/46 [==============================] - 0s 1ms/step - loss: 38391500800.0000\n",
            "Epoch 3/30\n",
            " 1/46 [..............................] - ETA: 0s - loss: 48323223552.0000WARNING:tensorflow:Early stopping conditioned on metric `val_loss` which is not available. Available metrics are: loss\n",
            "46/46 [==============================] - 0s 1ms/step - loss: 37811589120.0000\n",
            "Epoch 4/30\n",
            " 1/46 [..............................] - ETA: 0s - loss: 34887348224.0000WARNING:tensorflow:Early stopping conditioned on metric `val_loss` which is not available. Available metrics are: loss\n",
            "46/46 [==============================] - 0s 923us/step - loss: 36725821440.0000\n",
            "Epoch 5/30\n",
            " 1/46 [..............................] - ETA: 0s - loss: 32461225984.0000WARNING:tensorflow:Early stopping conditioned on metric `val_loss` which is not available. Available metrics are: loss\n",
            "46/46 [==============================] - 0s 922us/step - loss: 34843049984.0000\n",
            "Epoch 6/30\n",
            " 1/46 [..............................] - ETA: 0s - loss: 56648159232.0000WARNING:tensorflow:Early stopping conditioned on metric `val_loss` which is not available. Available metrics are: loss\n",
            "46/46 [==============================] - 0s 960us/step - loss: 32024465408.0000\n",
            "Epoch 7/30\n",
            " 1/46 [..............................] - ETA: 0s - loss: 24354037760.0000WARNING:tensorflow:Early stopping conditioned on metric `val_loss` which is not available. Available metrics are: loss\n",
            "46/46 [==============================] - 0s 915us/step - loss: 27973967872.0000\n",
            "Epoch 8/30\n",
            " 1/46 [..............................] - ETA: 0s - loss: 24073734144.0000WARNING:tensorflow:Early stopping conditioned on metric `val_loss` which is not available. Available metrics are: loss\n",
            "46/46 [==============================] - 0s 994us/step - loss: 23020888064.0000\n",
            "Epoch 9/30\n",
            " 1/46 [..............................] - ETA: 0s - loss: 22319949824.0000WARNING:tensorflow:Early stopping conditioned on metric `val_loss` which is not available. Available metrics are: loss\n",
            "46/46 [==============================] - 0s 993us/step - loss: 17734901760.0000\n",
            "Epoch 10/30\n",
            " 1/46 [..............................] - ETA: 0s - loss: 11232620544.0000WARNING:tensorflow:Early stopping conditioned on metric `val_loss` which is not available. Available metrics are: loss\n",
            "46/46 [==============================] - 0s 949us/step - loss: 12854230016.0000\n",
            "Epoch 11/30\n",
            " 1/46 [..............................] - ETA: 0s - loss: 16678262784.0000WARNING:tensorflow:Early stopping conditioned on metric `val_loss` which is not available. Available metrics are: loss\n",
            "46/46 [==============================] - 0s 944us/step - loss: 9018298368.0000\n",
            "Epoch 12/30\n",
            " 1/46 [..............................] - ETA: 0s - loss: 7988238848.0000WARNING:tensorflow:Early stopping conditioned on metric `val_loss` which is not available. Available metrics are: loss\n",
            "46/46 [==============================] - 0s 1ms/step - loss: 6519560704.0000\n",
            "Epoch 13/30\n",
            " 1/46 [..............................] - ETA: 0s - loss: 11638476800.0000WARNING:tensorflow:Early stopping conditioned on metric `val_loss` which is not available. Available metrics are: loss\n",
            "46/46 [==============================] - 0s 1ms/step - loss: 5187278848.0000\n",
            "Epoch 14/30\n",
            " 1/46 [..............................] - ETA: 0s - loss: 4091310592.0000WARNING:tensorflow:Early stopping conditioned on metric `val_loss` which is not available. Available metrics are: loss\n",
            "46/46 [==============================] - 0s 1ms/step - loss: 4626186240.0000\n",
            "Epoch 15/30\n",
            " 1/46 [..............................] - ETA: 0s - loss: 4182337280.0000WARNING:tensorflow:Early stopping conditioned on metric `val_loss` which is not available. Available metrics are: loss\n",
            "46/46 [==============================] - 0s 986us/step - loss: 4440779776.0000\n",
            "Epoch 16/30\n",
            "44/46 [===========================>..] - ETA: 0s - loss: 4323528192.0000WARNING:tensorflow:Early stopping conditioned on metric `val_loss` which is not available. Available metrics are: loss\n",
            "46/46 [==============================] - 0s 1ms/step - loss: 4377915904.0000\n",
            "Epoch 17/30\n",
            " 1/46 [..............................] - ETA: 0s - loss: 2918024704.0000WARNING:tensorflow:Early stopping conditioned on metric `val_loss` which is not available. Available metrics are: loss\n",
            "46/46 [==============================] - 0s 1ms/step - loss: 4358456320.0000\n",
            "Epoch 18/30\n",
            "45/46 [============================>.] - ETA: 0s - loss: 4376644608.0000WARNING:tensorflow:Early stopping conditioned on metric `val_loss` which is not available. Available metrics are: loss\n",
            "46/46 [==============================] - 0s 1ms/step - loss: 4345214464.0000\n",
            "Epoch 19/30\n",
            " 1/46 [..............................] - ETA: 0s - loss: 3380402432.0000WARNING:tensorflow:Early stopping conditioned on metric `val_loss` which is not available. Available metrics are: loss\n",
            "46/46 [==============================] - 0s 1ms/step - loss: 4335932416.0000\n",
            "Epoch 20/30\n",
            " 1/46 [..............................] - ETA: 0s - loss: 7824248832.0000WARNING:tensorflow:Early stopping conditioned on metric `val_loss` which is not available. Available metrics are: loss\n",
            "46/46 [==============================] - 0s 996us/step - loss: 4323561472.0000\n",
            "Epoch 21/30\n",
            " 1/46 [..............................] - ETA: 0s - loss: 3015243776.0000WARNING:tensorflow:Early stopping conditioned on metric `val_loss` which is not available. Available metrics are: loss\n",
            "46/46 [==============================] - 0s 1ms/step - loss: 4312054272.0000\n",
            "Epoch 22/30\n",
            " 1/46 [..............................] - ETA: 0s - loss: 1477232384.0000WARNING:tensorflow:Early stopping conditioned on metric `val_loss` which is not available. Available metrics are: loss\n",
            "46/46 [==============================] - 0s 1ms/step - loss: 4302085120.0000\n",
            "Epoch 23/30\n",
            " 1/46 [..............................] - ETA: 0s - loss: 6439025152.0000WARNING:tensorflow:Early stopping conditioned on metric `val_loss` which is not available. Available metrics are: loss\n",
            "46/46 [==============================] - 0s 961us/step - loss: 4292857856.0000\n",
            "Epoch 24/30\n",
            " 1/46 [..............................] - ETA: 0s - loss: 4698698240.0000WARNING:tensorflow:Early stopping conditioned on metric `val_loss` which is not available. Available metrics are: loss\n",
            "46/46 [==============================] - 0s 946us/step - loss: 4281658368.0000\n",
            "Epoch 25/30\n",
            " 1/46 [..............................] - ETA: 0s - loss: 2558768640.0000WARNING:tensorflow:Early stopping conditioned on metric `val_loss` which is not available. Available metrics are: loss\n",
            "46/46 [==============================] - 0s 880us/step - loss: 4268428288.0000\n",
            "Epoch 26/30\n",
            " 1/46 [..............................] - ETA: 0s - loss: 2595911168.0000WARNING:tensorflow:Early stopping conditioned on metric `val_loss` which is not available. Available metrics are: loss\n",
            "46/46 [==============================] - 0s 1ms/step - loss: 4257489664.0000\n",
            "Epoch 27/30\n",
            " 1/46 [..............................] - ETA: 0s - loss: 2532278528.0000WARNING:tensorflow:Early stopping conditioned on metric `val_loss` which is not available. Available metrics are: loss\n",
            "46/46 [==============================] - 0s 981us/step - loss: 4245182464.0000\n",
            "Epoch 28/30\n",
            " 1/46 [..............................] - ETA: 0s - loss: 4086881280.0000WARNING:tensorflow:Early stopping conditioned on metric `val_loss` which is not available. Available metrics are: loss\n",
            "46/46 [==============================] - 0s 972us/step - loss: 4233171456.0000\n",
            "Epoch 29/30\n",
            " 1/46 [..............................] - ETA: 0s - loss: 2538590976.0000WARNING:tensorflow:Early stopping conditioned on metric `val_loss` which is not available. Available metrics are: loss\n",
            "46/46 [==============================] - 0s 892us/step - loss: 4221473536.0000\n",
            "Epoch 30/30\n",
            " 1/46 [..............................] - ETA: 0s - loss: 1484476672.0000WARNING:tensorflow:Early stopping conditioned on metric `val_loss` which is not available. Available metrics are: loss\n",
            "46/46 [==============================] - 0s 1ms/step - loss: 4210148352.0000\n"
          ],
          "name": "stdout"
        },
        {
          "output_type": "execute_result",
          "data": {
            "text/plain": [
              "<tensorflow.python.keras.callbacks.History at 0x7fec6f805860>"
            ]
          },
          "metadata": {
            "tags": []
          },
          "execution_count": 9
        }
      ]
    },
    {
      "cell_type": "code",
      "metadata": {
        "id": "7Y4MrwSZUjrp",
        "colab_type": "code",
        "colab": {
          "base_uri": "https://localhost:8080/",
          "height": 34
        },
        "outputId": "1f94acf1-5cde-4118-8e6d-6d1a20b3056c"
      },
      "source": [
        "test_data=np.array([2003,\t854,\t1710,\t2,\t1,\t3,\t8,\t2008])\n",
        "print(model.predict(test_data.reshape(1,8), batch_size=1))"
      ],
      "execution_count": 11,
      "outputs": [
        {
          "output_type": "stream",
          "text": [
            "[[202574.64]]\n"
          ],
          "name": "stdout"
        }
      ]
    },
    {
      "cell_type": "code",
      "metadata": {
        "id": "FSnadsQ6WMyB",
        "colab_type": "code",
        "colab": {}
      },
      "source": [
        "model.save('housing_model.h5')"
      ],
      "execution_count": 12,
      "outputs": []
    },
    {
      "cell_type": "code",
      "metadata": {
        "id": "jLzzTgsAWxpa",
        "colab_type": "code",
        "colab": {}
      },
      "source": [
        "old_model=keras.models.load_model('housing_model.h5')"
      ],
      "execution_count": 13,
      "outputs": []
    },
    {
      "cell_type": "code",
      "metadata": {
        "id": "AKkdMqZnW--I",
        "colab_type": "code",
        "colab": {
          "base_uri": "https://localhost:8080/",
          "height": 34
        },
        "outputId": "b5d15354-a4c3-47e2-be1e-2a38a29de604"
      },
      "source": [
        "test_data=np.array([2003,\t854,\t1710,\t2,\t1,\t3,\t8,\t2008])\n",
        "print(model.predict(test_data.reshape(1,8), batch_size=1))"
      ],
      "execution_count": 14,
      "outputs": [
        {
          "output_type": "stream",
          "text": [
            "[[202574.64]]\n"
          ],
          "name": "stdout"
        }
      ]
    }
  ]
}